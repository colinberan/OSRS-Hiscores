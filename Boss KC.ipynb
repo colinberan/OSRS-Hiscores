{
 "cells": [
  {
   "cell_type": "markdown",
   "metadata": {},
   "source": [
    "Imported some useful libraries and read our .csv file."
   ]
  },
  {
   "cell_type": "code",
   "execution_count": 26,
   "metadata": {},
   "outputs": [],
   "source": [
    "import pandas as pd\n",
    "import numpy as np\n",
    "import matplotlib.pyplot as plt\n",
    "from tabulate import tabulate\n",
    "\n",
    "df = pd.read_csv('player-stats-raw.csv')"
   ]
  },
  {
   "cell_type": "markdown",
   "metadata": {},
   "source": [
    "I wasn't sure if there could have been any duplicates, but just in case I wrote this to drop any duplicate usernames that might appear.\n",
    "Additionally, I renamed the timestamp column from \"ts\" to \"timestamp\" and converted it from an object type to a datetime type."
   ]
  },
  {
   "cell_type": "code",
   "execution_count": 27,
   "metadata": {},
   "outputs": [],
   "source": [
    "df = df.drop_duplicates(subset='username', keep='first')\n",
    "df = df.rename(columns={'ts':'timestamp'})\n",
    "df['timestamp'] = pd.to_datetime(df['timestamp'])"
   ]
  },
  {
   "cell_type": "markdown",
   "metadata": {},
   "source": [
    "Right now I'm just interested in PvM (Player versus Monster) content, so I first dropped any rows that didn't end in \"_score\" which essentially just dropped all the stats related to player levels. Afterwards I manually dropped things like Bounty Hunter and Treasure Trails to leave us just with bossing content."
   ]
  },
  {
   "cell_type": "code",
   "execution_count": 28,
   "metadata": {},
   "outputs": [],
   "source": [
    "boss = df.filter(regex='_score')\n",
    "boss = boss.drop(columns=['unknown_score','bounty_hunter_hunter_score','bounty_hunter_rogue_score','clue_scrolls_all_score','clue_scrolls_beginner_score',\n",
    "'clue_scrolls_easy_score','clue_scrolls_medium_score','clue_scrolls_hard_score','clue_scrolls_elite_score','clue_scrolls_master_score','lms_rank_score',\n",
    "'pvp_arena_score','soul_wars_zeal_score','rifts_closed_score'])\n",
    "\n",
    "boss_list = list(boss.columns.values)"
   ]
  },
  {
   "cell_type": "markdown",
   "metadata": {},
   "source": [
    "One last bit of preprocessing here, creating a list of all of the columns I want from the dataframe for my purposes and then using that list to filter our original dataframe to end up with a list solely comprised of each user and how many of each boss they've defeated.\n",
    "\n",
    "The OSRS Hiscores work in a way that some bosses have a minimum required amount that needs to be defeated before the player gets listed on the Hiscores and their kill count is displayed. So in our case, any values of \"-1\" in our data means that the player either hasn't defeated that boss at all, or they have yet to reach the minimum required amount. \n",
    "What I opted to do is replace all values of -1 with a \"Not listed on Hiscores.\" string.\n",
    "\n",
    "Lastly, I dropped the \"_score\" from the end of each of the bosses and any other underscores in the columns just to make it look nicer."
   ]
  },
  {
   "cell_type": "code",
   "execution_count": 29,
   "metadata": {},
   "outputs": [],
   "source": [
    "col_list = ['username','timestamp'] + boss_list\n",
    "player_kc = df.filter(col_list)\n",
    "player_kc = player_kc.replace(-1,'Not listed on Hiscores.')\n",
    "player_kc.columns = player_kc.columns.str.replace('_score','')\n",
    "player_kc.columns = player_kc.columns.str.replace('_',' ')"
   ]
  },
  {
   "cell_type": "markdown",
   "metadata": {},
   "source": [
    "Now what we've been waiting for:\n",
    "I set this up to accept a case-sensitive username input from the user. In our case, we'll look at the user \"Suede\". (itswill7)\n",
    "That username is then used to filter our \"player_kc\" dataframe to just give us our kill count stats for that particular player.\n",
    "\n",
    "I transposed the dataframe at this point because it was much smaller and cause the runtimes to drop dramatically.\n",
    "This leaves us with a table of kill counts for each boss with a string indicating if a particular boss has not been slain enough to list the player on the Hiscores."
   ]
  },
  {
   "cell_type": "code",
   "execution_count": 30,
   "metadata": {},
   "outputs": [
    {
     "name": "stdout",
     "output_type": "stream",
     "text": [
      "╒══════════════════════════════════╤════════════════════════════╕\n",
      "│ Username                         │ Suede                      │\n",
      "├──────────────────────────────────┼────────────────────────────┤\n",
      "│ Timestamp                        │ 2022-07-21 05:30:18.623315 │\n",
      "├──────────────────────────────────┼────────────────────────────┤\n",
      "│ Abyssal Sire                     │ 5658                       │\n",
      "├──────────────────────────────────┼────────────────────────────┤\n",
      "│ Alchemical Hydra                 │ 363                        │\n",
      "├──────────────────────────────────┼────────────────────────────┤\n",
      "│ Barrows Chests                   │ 137                        │\n",
      "├──────────────────────────────────┼────────────────────────────┤\n",
      "│ Bryophyta                        │ 5                          │\n",
      "├──────────────────────────────────┼────────────────────────────┤\n",
      "│ Callisto                         │ 2369                       │\n",
      "├──────────────────────────────────┼────────────────────────────┤\n",
      "│ Cerberus                         │ 4263                       │\n",
      "├──────────────────────────────────┼────────────────────────────┤\n",
      "│ Chambers Of Xeric                │ 731                        │\n",
      "├──────────────────────────────────┼────────────────────────────┤\n",
      "│ Chambers Of Xeric Challenge Mode │ 223                        │\n",
      "├──────────────────────────────────┼────────────────────────────┤\n",
      "│ Chaos Elemental                  │ Not listed on Hiscores.    │\n",
      "├──────────────────────────────────┼────────────────────────────┤\n",
      "│ Chaos Fanatic                    │ 51                         │\n",
      "├──────────────────────────────────┼────────────────────────────┤\n",
      "│ Commander Zilyana                │ 2946                       │\n",
      "├──────────────────────────────────┼────────────────────────────┤\n",
      "│ Corporeal Beast                  │ 55                         │\n",
      "├──────────────────────────────────┼────────────────────────────┤\n",
      "│ Crazy Archaeologist              │ Not listed on Hiscores.    │\n",
      "├──────────────────────────────────┼────────────────────────────┤\n",
      "│ Dagannoth Prime                  │ 1571                       │\n",
      "├──────────────────────────────────┼────────────────────────────┤\n",
      "│ Dagannoth Rex                    │ 1584                       │\n",
      "├──────────────────────────────────┼────────────────────────────┤\n",
      "│ Dagannoth Supreme                │ 1603                       │\n",
      "├──────────────────────────────────┼────────────────────────────┤\n",
      "│ Deranged Archaeologist           │ 50                         │\n",
      "├──────────────────────────────────┼────────────────────────────┤\n",
      "│ General Graardor                 │ 3912                       │\n",
      "├──────────────────────────────────┼────────────────────────────┤\n",
      "│ Giant Mole                       │ 4873                       │\n",
      "├──────────────────────────────────┼────────────────────────────┤\n",
      "│ Grotesque Guardians              │ 1595                       │\n",
      "├──────────────────────────────────┼────────────────────────────┤\n",
      "│ Hespori                          │ 7                          │\n",
      "├──────────────────────────────────┼────────────────────────────┤\n",
      "│ Kalphite Queen                   │ 12431                      │\n",
      "├──────────────────────────────────┼────────────────────────────┤\n",
      "│ King Black Dragon                │ 808                        │\n",
      "├──────────────────────────────────┼────────────────────────────┤\n",
      "│ Kraken                           │ 7022                       │\n",
      "├──────────────────────────────────┼────────────────────────────┤\n",
      "│ Kreearra                         │ 135                        │\n",
      "├──────────────────────────────────┼────────────────────────────┤\n",
      "│ Kril Tsutsaroth                  │ 801                        │\n",
      "├──────────────────────────────────┼────────────────────────────┤\n",
      "│ Mimic                            │ 5                          │\n",
      "├──────────────────────────────────┼────────────────────────────┤\n",
      "│ Nex                              │ 587                        │\n",
      "├──────────────────────────────────┼────────────────────────────┤\n",
      "│ Nightmare                        │ 129                        │\n",
      "├──────────────────────────────────┼────────────────────────────┤\n",
      "│ Phosanis Nightmare               │ 1005                       │\n",
      "├──────────────────────────────────┼────────────────────────────┤\n",
      "│ Obor                             │ 5                          │\n",
      "├──────────────────────────────────┼────────────────────────────┤\n",
      "│ Sarachnis                        │ 4706                       │\n",
      "├──────────────────────────────────┼────────────────────────────┤\n",
      "│ Scorpia                          │ 510                        │\n",
      "├──────────────────────────────────┼────────────────────────────┤\n",
      "│ Skotizo                          │ 103                        │\n",
      "├──────────────────────────────────┼────────────────────────────┤\n",
      "│ Tempoross                        │ 177                        │\n",
      "├──────────────────────────────────┼────────────────────────────┤\n",
      "│ The Gauntlet                     │ Not listed on Hiscores.    │\n",
      "├──────────────────────────────────┼────────────────────────────┤\n",
      "│ The Corrupted Gauntlet           │ 1327                       │\n",
      "├──────────────────────────────────┼────────────────────────────┤\n",
      "│ Theatre Of Blood                 │ 170                        │\n",
      "├──────────────────────────────────┼────────────────────────────┤\n",
      "│ Theatre Of Blood Hard Mode       │ 181                        │\n",
      "├──────────────────────────────────┼────────────────────────────┤\n",
      "│ Thermonuclear Smoke Devil        │ 15384                      │\n",
      "├──────────────────────────────────┼────────────────────────────┤\n",
      "│ Tzkal Zuk                        │ 16                         │\n",
      "├──────────────────────────────────┼────────────────────────────┤\n",
      "│ Tztok Jad                        │ 22                         │\n",
      "├──────────────────────────────────┼────────────────────────────┤\n",
      "│ Venenatis                        │ 542                        │\n",
      "├──────────────────────────────────┼────────────────────────────┤\n",
      "│ Vetion                           │ 1328                       │\n",
      "├──────────────────────────────────┼────────────────────────────┤\n",
      "│ Vorkath                          │ 1319                       │\n",
      "├──────────────────────────────────┼────────────────────────────┤\n",
      "│ Wintertodt                       │ 954                        │\n",
      "├──────────────────────────────────┼────────────────────────────┤\n",
      "│ Zalcano                          │ 2259                       │\n",
      "├──────────────────────────────────┼────────────────────────────┤\n",
      "│ Zulrah                           │ 2552                       │\n",
      "╘══════════════════════════════════╧════════════════════════════╛\n"
     ]
    }
   ],
   "source": [
    "name = input(\"Enter username: \")\n",
    "user_kc = player_kc[player_kc['username'] == name]\n",
    "user_kc = np.transpose(user_kc).reset_index()\n",
    "user_kc['index'] = user_kc['index'].str.title()\n",
    "print(tabulate(user_kc, tablefmt='fancy_grid', showindex=False))"
   ]
  },
  {
   "cell_type": "markdown",
   "metadata": {},
   "source": [
    "Next, let's look instead at just finding the players with the highest kill count for each boss."
   ]
  },
  {
   "cell_type": "code",
   "execution_count": 43,
   "metadata": {},
   "outputs": [
    {
     "name": "stdout",
     "output_type": "stream",
     "text": [
      "╒══════════════════════════════════╤══════════════╤══════════════╕\n",
      "│ Boss                             │ Username     │   Kill Count │\n",
      "╞══════════════════════════════════╪══════════════╪══════════════╡\n",
      "│ Abyssal Sire                     │ Abyssal Sire │        16675 │\n",
      "├──────────────────────────────────┼──────────────┼──────────────┤\n",
      "│ Alchemical Hydra                 │ Sulll        │        53134 │\n",
      "├──────────────────────────────────┼──────────────┼──────────────┤\n",
      "│ Barrows Chests                   │ cups ftw     │        17634 │\n",
      "├──────────────────────────────────┼──────────────┼──────────────┤\n",
      "│ Bryophyta                        │ tannerdino   │         5919 │\n",
      "├──────────────────────────────────┼──────────────┼──────────────┤\n",
      "│ Callisto                         │ Shewdoh      │        14300 │\n",
      "├──────────────────────────────────┼──────────────┼──────────────┤\n",
      "│ Cerberus                         │ Jacobs       │       123458 │\n",
      "├──────────────────────────────────┼──────────────┼──────────────┤\n",
      "│ Chambers Of Xeric                │ Carino       │        13951 │\n",
      "├──────────────────────────────────┼──────────────┼──────────────┤\n",
      "│ Chambers Of Xeric Challenge Mode │ Big Kamm     │         4440 │\n",
      "├──────────────────────────────────┼──────────────┼──────────────┤\n",
      "│ Chaos Elemental                  │ Chestbrah    │         5470 │\n",
      "├──────────────────────────────────┼──────────────┼──────────────┤\n",
      "│ Chaos Fanatic                    │ I Slay Upray │        11484 │\n",
      "├──────────────────────────────────┼──────────────┼──────────────┤\n",
      "│ Commander Zilyana                │ Letsjjj      │        26472 │\n",
      "├──────────────────────────────────┼──────────────┼──────────────┤\n",
      "│ Corporeal Beast                  │ Flikker      │        36413 │\n",
      "├──────────────────────────────────┼──────────────┼──────────────┤\n",
      "│ Crazy Archaeologist              │ IM SORRY AYE │        15831 │\n",
      "├──────────────────────────────────┼──────────────┼──────────────┤\n",
      "│ Dagannoth Prime                  │ troxmisytic  │        35727 │\n",
      "├──────────────────────────────────┼──────────────┼──────────────┤\n",
      "│ Dagannoth Rex                    │ Rigondead    │        32364 │\n",
      "├──────────────────────────────────┼──────────────┼──────────────┤\n",
      "│ Dagannoth Supreme                │ troxmisytic  │        37607 │\n",
      "├──────────────────────────────────┼──────────────┼──────────────┤\n",
      "│ Deranged Archaeologist           │ Hal Jordan   │        15175 │\n",
      "├──────────────────────────────────┼──────────────┼──────────────┤\n",
      "│ General Graardor                 │ L2killbandos │        52416 │\n",
      "├──────────────────────────────────┼──────────────┼──────────────┤\n",
      "│ Giant Mole                       │ shere khan1  │       100000 │\n",
      "├──────────────────────────────────┼──────────────┼──────────────┤\n",
      "│ Grotesque Guardians              │ VB TINNS     │        19366 │\n",
      "├──────────────────────────────────┼──────────────┼──────────────┤\n",
      "│ Hespori                          │ Rohmu        │         1095 │\n",
      "├──────────────────────────────────┼──────────────┼──────────────┤\n",
      "│ Kalphite Queen                   │ Sveitsi      │        14520 │\n",
      "├──────────────────────────────────┼──────────────┼──────────────┤\n",
      "│ King Black Dragon                │ ihituquit    │        33003 │\n",
      "├──────────────────────────────────┼──────────────┼──────────────┤\n",
      "│ Kraken                           │ Portuguese   │       100000 │\n",
      "├──────────────────────────────────┼──────────────┼──────────────┤\n",
      "│ Kreearra                         │ Visker       │        55099 │\n",
      "├──────────────────────────────────┼──────────────┼──────────────┤\n",
      "│ Kril Tsutsaroth                  │ A Big Hippo  │        18766 │\n",
      "├──────────────────────────────────┼──────────────┼──────────────┤\n",
      "│ Mimic                            │ Flash Voyage │          326 │\n",
      "├──────────────────────────────────┼──────────────┼──────────────┤\n",
      "│ Nex                              │ nomarlion    │        36823 │\n",
      "├──────────────────────────────────┼──────────────┼──────────────┤\n",
      "│ Nightmare                        │ Nexseef      │        20000 │\n",
      "├──────────────────────────────────┼──────────────┼──────────────┤\n",
      "│ Phosanis Nightmare               │ AshenHole    │        10735 │\n",
      "├──────────────────────────────────┼──────────────┼──────────────┤\n",
      "│ Obor                             │ tannerdino   │         4088 │\n",
      "├──────────────────────────────────┼──────────────┼──────────────┤\n",
      "│ Sarachnis                        │ Jyhy         │        44160 │\n",
      "├──────────────────────────────────┼──────────────┼──────────────┤\n",
      "│ Scorpia                          │ Loris555     │        12369 │\n",
      "├──────────────────────────────────┼──────────────┼──────────────┤\n",
      "│ Skotizo                          │ Larie        │         1657 │\n",
      "├──────────────────────────────────┼──────────────┼──────────────┤\n",
      "│ Tempoross                        │ Uncle Solo   │        28804 │\n",
      "├──────────────────────────────────┼──────────────┼──────────────┤\n",
      "│ The Gauntlet                     │ Nsummerfield │         5555 │\n",
      "├──────────────────────────────────┼──────────────┼──────────────┤\n",
      "│ The Corrupted Gauntlet           │ MusicalMan00 │         9530 │\n",
      "├──────────────────────────────────┼──────────────┼──────────────┤\n",
      "│ Theatre Of Blood                 │ incant       │        13267 │\n",
      "├──────────────────────────────────┼──────────────┼──────────────┤\n",
      "│ Theatre Of Blood Hard Mode       │ Rayne Drop   │         2731 │\n",
      "├──────────────────────────────────┼──────────────┼──────────────┤\n",
      "│ Thermonuclear Smoke Devil        │ Owens        │        34270 │\n",
      "├──────────────────────────────────┼──────────────┼──────────────┤\n",
      "│ Tzkal Zuk                        │ Slim Paul    │          666 │\n",
      "├──────────────────────────────────┼──────────────┼──────────────┤\n",
      "│ Tztok Jad                        │ Number1 Bass │          724 │\n",
      "├──────────────────────────────────┼──────────────┼──────────────┤\n",
      "│ Venenatis                        │ tg kun       │        80691 │\n",
      "├──────────────────────────────────┼──────────────┼──────────────┤\n",
      "│ Vetion                           │ S H O O T    │        10718 │\n",
      "├──────────────────────────────────┼──────────────┼──────────────┤\n",
      "│ Vorkath                          │ Lerimin      │        62216 │\n",
      "├──────────────────────────────────┼──────────────┼──────────────┤\n",
      "│ Wintertodt                       │ D 0 U G      │        15400 │\n",
      "├──────────────────────────────────┼──────────────┼──────────────┤\n",
      "│ Zalcano                          │ Cell490      │        18215 │\n",
      "├──────────────────────────────────┼──────────────┼──────────────┤\n",
      "│ Zulrah                           │ Snoop D9     │       164088 │\n",
      "╘══════════════════════════════════╧══════════════╧══════════════╛\n"
     ]
    }
   ],
   "source": [
    "col_list = ['username'] + boss_list\n",
    "boss_max_kc = df.filter(col_list)\n",
    "boss_max_kc = boss_max_kc.set_index('username')\n",
    "boss_max_kc = boss_max_kc.agg(['idxmax','max'])\n",
    "boss_max_kc.columns = boss_max_kc.columns.str.replace('_score','')\n",
    "boss_max_kc.columns = boss_max_kc.columns.str.replace('_',' ')\n",
    "boss_max_kc= np.transpose(boss_max_kc).reset_index()\n",
    "boss_max_kc['index'] = boss_max_kc['index'].str.title()\n",
    "print(tabulate(boss_max_kc, headers=['Boss','Username','Kill Count'], tablefmt='fancy_grid', showindex=False))"
   ]
  }
 ],
 "metadata": {
  "kernelspec": {
   "display_name": "Python 3.9.13 64-bit (windows store)",
   "language": "python",
   "name": "python3"
  },
  "language_info": {
   "codemirror_mode": {
    "name": "ipython",
    "version": 3
   },
   "file_extension": ".py",
   "mimetype": "text/x-python",
   "name": "python",
   "nbconvert_exporter": "python",
   "pygments_lexer": "ipython3",
   "version": "3.9.13"
  },
  "orig_nbformat": 4,
  "vscode": {
   "interpreter": {
    "hash": "ea9d5a266342a030776e38203f4d9289bb7aad820a182feae83de2ebcc687f21"
   }
  }
 },
 "nbformat": 4,
 "nbformat_minor": 2
}
